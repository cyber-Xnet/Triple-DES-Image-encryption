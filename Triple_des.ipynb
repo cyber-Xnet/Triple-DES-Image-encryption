{
  "nbformat": 4,
  "nbformat_minor": 0,
  "metadata": {
    "colab": {
      "name": "Triple des.ipynb",
      "provenance": [],
      "collapsed_sections": [
        "EDiWBIGagUBo",
        "2JDRO3LzgmQv",
        "EFVA9SY6hATm"
      ],
      "toc_visible": true,
      "include_colab_link": true
    },
    "kernelspec": {
      "name": "python3",
      "display_name": "Python 3"
    },
    "language_info": {
      "name": "python"
    },
    "accelerator": "GPU"
  },
  "cells": [
    {
      "cell_type": "markdown",
      "metadata": {
        "id": "view-in-github",
        "colab_type": "text"
      },
      "source": [
        "<a href=\"https://colab.research.google.com/github/cyber-Xnet/Triple-DES-Image-encryption/blob/main/Triple_des.ipynb\" target=\"_parent\"><img src=\"https://colab.research.google.com/assets/colab-badge.svg\" alt=\"Open In Colab\"/></a>"
      ]
    },
    {
      "cell_type": "markdown",
      "metadata": {
        "id": "VQ0gfqBomOQH"
      },
      "source": [
        "# ---------------------Triple DES Encryption---------------------"
      ]
    },
    {
      "cell_type": "markdown",
      "metadata": {
        "id": "EDiWBIGagUBo"
      },
      "source": [
        "\n",
        "\n",
        "\n",
        "# 1.Installing Required Libraries\n"
      ]
    },
    {
      "cell_type": "code",
      "metadata": {
        "cellView": "form",
        "id": "qj6grgduNexr"
      },
      "source": [
        "#@title Run This Cell To Install Required Libraries!!!\n",
        "\n",
        "\n",
        "!pip install pycryptodome"
      ],
      "execution_count": null,
      "outputs": []
    },
    {
      "cell_type": "markdown",
      "metadata": {
        "id": "2JDRO3LzgmQv"
      },
      "source": [
        "\n",
        "\n",
        "# 2.Generating Random keys"
      ]
    },
    {
      "cell_type": "code",
      "metadata": {
        "id": "3wY9gVFmVa1o",
        "cellView": "form"
      },
      "source": [
        "#@title Run This To Cell To Generate Random Key!!!\n",
        "import random  \n",
        "import string \n",
        "import os\n",
        "\n",
        "\n",
        "\n",
        "\n",
        "letter_count =\"\" #@param {type:\"string\"}\n",
        "digit_count =\"\" #@param {type:\"string\"}\n",
        "\n",
        "\n",
        "\n",
        "\n",
        "\n",
        "\n",
        "\n",
        "def random_string(letter_count, digit_count):  \n",
        "    key = ''.join((random.choice(string.ascii_letters) for x in range(letter_count)))  \n",
        "    key += ''.join((random.choice(string.digits) for x in range(digit_count)))  \n",
        "  \n",
        "    xnet_list = list(key) # it converts the string to list.  \n",
        "    random.shuffle(xnet_list) # It uses a random.shuffle() function to shuffle the string.  \n",
        "    final_string = ''.join(xnet_list)  \n",
        "    return final_string  \n",
        "  \n",
        "# define the length of the letter is eight and digits is four  \n",
        "print(\"Generated random key:\", random_string(letter_count, digit_count))  \n",
        "  "
      ],
      "execution_count": null,
      "outputs": []
    },
    {
      "cell_type": "markdown",
      "metadata": {
        "id": "EFVA9SY6hATm"
      },
      "source": [
        "\n",
        "\n",
        "# 3.Encrypting and decrypting the image using Triple DES encryption."
      ]
    },
    {
      "cell_type": "code",
      "metadata": {
        "id": "5ufpdBaJNMN1",
        "cellView": "form"
      },
      "source": [
        "#@title Run This Cell Encrypt And Decrypt Image Using Triple DES:\n",
        "\n",
        "print('--------------Developed by Lavan and Tharshan---------------')\n",
        "\n",
        "\n",
        "from Crypto.Cipher import DES3\n",
        "from hashlib import md5\n",
        "import os\n",
        "\n",
        "\n",
        "while True:\n",
        "    '''print('Choose operation to be done:\\n\\t1- Encryption\\n\\t2- Decryption')\n",
        "    operation = input('Your Choice: ')\n",
        "    if operation not in ['1', '2']:\n",
        "        break'''\n",
        "    operation = \"Decrypt\" #@param [\"Encrypt\", \"Decrypt\"]\n",
        "        \n",
        "    \n",
        "    \n",
        "    \n",
        "    file_path =\"\" #@param {type:\"string\"}\n",
        "    \n",
        "    \n",
        "    key =\"\" #@param {type:\"string\"}\n",
        "  \n",
        "\n",
        "    #key = input('DES3 key: ')\n",
        "    key_hash = md5(key.encode('ascii')).digest()\n",
        "\n",
        "   #key_hash = md5(key.encode('ascii')).digest()\n",
        "\n",
        "    \n",
        "    tdes_key = DES3.adjust_key_parity(key_hash)\n",
        "    \n",
        "    \n",
        "    cipher = DES3.new(tdes_key, DES3.MODE_EAX, nonce=b'0')\n",
        "    \n",
        "  \n",
        "    with open(file_path, 'rb') as input_file:\n",
        "        file_bytes = input_file.read()\n",
        "        \n",
        "        if operation == 'Encrypt':\n",
        "          \n",
        "            new_file_bytes = cipher.encrypt(file_bytes)\n",
        "        else:\n",
        "           \n",
        "            new_file_bytes = cipher.decrypt(file_bytes)\n",
        "    \n",
        "    with open(file_path, 'wb') as output_file:\n",
        "        output_file.write(new_file_bytes)\n",
        "        print('Operation Done!')\n",
        "        break"
      ],
      "execution_count": null,
      "outputs": []
    },
    {
      "cell_type": "markdown",
      "metadata": {
        "id": "brPFk1m3mBce"
      },
      "source": [
        "# **Developed by [Lavan](https://www.linkedin.com/in/lavan-s-8638621b1/) and [Tharshan](https://www.linkedin.com/in/tharshan-r-b5433419a/)**"
      ]
    }
  ]
}